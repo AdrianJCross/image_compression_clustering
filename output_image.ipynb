{
 "cells": [
  {
   "cell_type": "code",
   "execution_count": 5,
   "metadata": {},
   "outputs": [],
   "source": [
    "#output_images to images folder\n",
    "import sys\n",
    "import math\n",
    "import timeit\n",
    "import pandas as pd\n",
    "import numpy as np\n",
    "import matplotlib.pyplot as plt\n",
    "import matplotlib.image as mpimg\n",
    "import scipy.misc as smp\n",
    "from PIL import Image\n",
    "from mpl_toolkits.mplot3d import Axes3D\n",
    "from skimage import io\n",
    "\n",
    "#custom modules\n",
    "import find_closest_cluster\n",
    "import plot_rgb\n",
    "import k_means\n",
    "import fig_io\n",
    "\n",
    "\n",
    "for i in [256,128,64,32,8,4,2]:\n",
    "    pixel_data = pd.read_csv(\"data/k_means_\"+str(i)+\"_pixel_data.csv\") #k_mean\n",
    "    fig_io.read_out_fig(pixel_data.copy(),'flowersm.ppm','k_means_'+str(i)+'clusters')\n",
    "    \n",
    "    pixel_data = pd.read_csv(\"data/wta_\"+str(i)+\"_pixel_data.csv\") #wta\n",
    "    fig_io.read_out_fig(pixel_data.copy(),'flowersm.ppm','wta_'+str(i)+'clusters')\n",
    "\n",
    "    pixel_data = pd.read_csv(\"data/kohonen_\"+str(i)+\"_pixel_data.csv\") #kohonen\n",
    "    fig_io.read_out_fig(pixel_data.copy(),'flowersm.ppm','kohonen_'+str(i)+'clusters')"
   ]
  },
  {
   "cell_type": "code",
   "execution_count": null,
   "metadata": {},
   "outputs": [],
   "source": []
  },
  {
   "cell_type": "code",
   "execution_count": null,
   "metadata": {},
   "outputs": [],
   "source": []
  },
  {
   "cell_type": "code",
   "execution_count": null,
   "metadata": {},
   "outputs": [],
   "source": []
  }
 ],
 "metadata": {
  "kernelspec": {
   "display_name": "Python 3",
   "language": "python",
   "name": "python3"
  },
  "language_info": {
   "codemirror_mode": {
    "name": "ipython",
    "version": 3
   },
   "file_extension": ".py",
   "mimetype": "text/x-python",
   "name": "python",
   "nbconvert_exporter": "python",
   "pygments_lexer": "ipython3",
   "version": "3.7.3"
  }
 },
 "nbformat": 4,
 "nbformat_minor": 4
}
